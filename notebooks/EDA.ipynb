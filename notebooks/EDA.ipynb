{
 "cells": [
  {
   "cell_type": "code",
   "execution_count": 1,
   "metadata": {},
   "outputs": [],
   "source": [
    "import pandas as pd \n",
    "import numpy as np"
   ]
  },
  {
   "cell_type": "code",
   "execution_count": 2,
   "metadata": {},
   "outputs": [
    {
     "data": {
      "text/html": [
       "<div>\n",
       "<style scoped>\n",
       "    .dataframe tbody tr th:only-of-type {\n",
       "        vertical-align: middle;\n",
       "    }\n",
       "\n",
       "    .dataframe tbody tr th {\n",
       "        vertical-align: top;\n",
       "    }\n",
       "\n",
       "    .dataframe thead th {\n",
       "        text-align: right;\n",
       "    }\n",
       "</style>\n",
       "<table border=\"1\" class=\"dataframe\">\n",
       "  <thead>\n",
       "    <tr style=\"text-align: right;\">\n",
       "      <th></th>\n",
       "      <th>ID</th>\n",
       "      <th>Delivery_person_ID</th>\n",
       "      <th>Delivery_person_Age</th>\n",
       "      <th>Delivery_person_Ratings</th>\n",
       "      <th>Restaurant_latitude</th>\n",
       "      <th>Restaurant_longitude</th>\n",
       "      <th>Delivery_location_latitude</th>\n",
       "      <th>Delivery_location_longitude</th>\n",
       "      <th>Type_of_order</th>\n",
       "      <th>Type_of_vehicle</th>\n",
       "      <th>temperature</th>\n",
       "      <th>humidity</th>\n",
       "      <th>precipitation</th>\n",
       "      <th>weather_description</th>\n",
       "      <th>Unnamed: 14</th>\n",
       "      <th>Traffic_Level</th>\n",
       "      <th>Distance (km)</th>\n",
       "      <th>TARGET</th>\n",
       "    </tr>\n",
       "  </thead>\n",
       "  <tbody>\n",
       "    <tr>\n",
       "      <th>0</th>\n",
       "      <td>4607</td>\n",
       "      <td>INDORES13DEL02</td>\n",
       "      <td>37.0</td>\n",
       "      <td>4.9</td>\n",
       "      <td>22.745049</td>\n",
       "      <td>75.892471</td>\n",
       "      <td>22.765049</td>\n",
       "      <td>75.912471</td>\n",
       "      <td>Snack</td>\n",
       "      <td>motorcycle</td>\n",
       "      <td>17.11</td>\n",
       "      <td>77.0</td>\n",
       "      <td>0.0</td>\n",
       "      <td>haze</td>\n",
       "      <td>NaN</td>\n",
       "      <td>Low</td>\n",
       "      <td>NaN</td>\n",
       "      <td>21.66666667</td>\n",
       "    </tr>\n",
       "    <tr>\n",
       "      <th>1</th>\n",
       "      <td>B379</td>\n",
       "      <td>BANGRES18DEL02</td>\n",
       "      <td>34.0</td>\n",
       "      <td>4.5</td>\n",
       "      <td>12.913041</td>\n",
       "      <td>77.683237</td>\n",
       "      <td>13.043041</td>\n",
       "      <td>77.813237</td>\n",
       "      <td>Snack</td>\n",
       "      <td>scooter</td>\n",
       "      <td>19.50</td>\n",
       "      <td>93.0</td>\n",
       "      <td>0.0</td>\n",
       "      <td>mist</td>\n",
       "      <td>NaN</td>\n",
       "      <td>Very High</td>\n",
       "      <td>37.17</td>\n",
       "      <td>85.26666667</td>\n",
       "    </tr>\n",
       "    <tr>\n",
       "      <th>2</th>\n",
       "      <td>5D6D</td>\n",
       "      <td>BANGRES19DEL01</td>\n",
       "      <td>23.0</td>\n",
       "      <td>4.4</td>\n",
       "      <td>12.914264</td>\n",
       "      <td>77.678400</td>\n",
       "      <td>12.924264</td>\n",
       "      <td>77.688400</td>\n",
       "      <td>Drinks</td>\n",
       "      <td>motorcycle</td>\n",
       "      <td>20.45</td>\n",
       "      <td>91.0</td>\n",
       "      <td>0.0</td>\n",
       "      <td>mist</td>\n",
       "      <td>NaN</td>\n",
       "      <td>Low</td>\n",
       "      <td>3.34</td>\n",
       "      <td>28.58333333</td>\n",
       "    </tr>\n",
       "    <tr>\n",
       "      <th>3</th>\n",
       "      <td>7A6A</td>\n",
       "      <td>COIMBRES13DEL02</td>\n",
       "      <td>38.0</td>\n",
       "      <td>4.7</td>\n",
       "      <td>11.003669</td>\n",
       "      <td>76.976494</td>\n",
       "      <td>11.053669</td>\n",
       "      <td>77.026494</td>\n",
       "      <td>Buffet</td>\n",
       "      <td>motorcycle</td>\n",
       "      <td>23.86</td>\n",
       "      <td>78.0</td>\n",
       "      <td>0.0</td>\n",
       "      <td>mist</td>\n",
       "      <td>NaN</td>\n",
       "      <td>Moderate</td>\n",
       "      <td>10.05</td>\n",
       "      <td>35.18333333</td>\n",
       "    </tr>\n",
       "    <tr>\n",
       "      <th>4</th>\n",
       "      <td>70A2</td>\n",
       "      <td>CHENRES12DEL01</td>\n",
       "      <td>32.0</td>\n",
       "      <td>4.6</td>\n",
       "      <td>12.972793</td>\n",
       "      <td>80.249982</td>\n",
       "      <td>13.012793</td>\n",
       "      <td>80.289982</td>\n",
       "      <td>Snack</td>\n",
       "      <td>scooter</td>\n",
       "      <td>26.55</td>\n",
       "      <td>87.0</td>\n",
       "      <td>0.0</td>\n",
       "      <td>mist</td>\n",
       "      <td>NaN</td>\n",
       "      <td>High</td>\n",
       "      <td>9.89</td>\n",
       "      <td>43.45</td>\n",
       "    </tr>\n",
       "  </tbody>\n",
       "</table>\n",
       "</div>"
      ],
      "text/plain": [
       "     ID Delivery_person_ID  Delivery_person_Age  Delivery_person_Ratings  \\\n",
       "0  4607     INDORES13DEL02                 37.0                      4.9   \n",
       "1  B379     BANGRES18DEL02                 34.0                      4.5   \n",
       "2  5D6D     BANGRES19DEL01                 23.0                      4.4   \n",
       "3  7A6A    COIMBRES13DEL02                 38.0                      4.7   \n",
       "4  70A2     CHENRES12DEL01                 32.0                      4.6   \n",
       "\n",
       "   Restaurant_latitude  Restaurant_longitude  Delivery_location_latitude  \\\n",
       "0            22.745049             75.892471                   22.765049   \n",
       "1            12.913041             77.683237                   13.043041   \n",
       "2            12.914264             77.678400                   12.924264   \n",
       "3            11.003669             76.976494                   11.053669   \n",
       "4            12.972793             80.249982                   13.012793   \n",
       "\n",
       "   Delivery_location_longitude Type_of_order Type_of_vehicle  temperature  \\\n",
       "0                    75.912471        Snack      motorcycle         17.11   \n",
       "1                    77.813237        Snack         scooter         19.50   \n",
       "2                    77.688400       Drinks      motorcycle         20.45   \n",
       "3                    77.026494       Buffet      motorcycle         23.86   \n",
       "4                    80.289982        Snack         scooter         26.55   \n",
       "\n",
       "   humidity  precipitation weather_description  Unnamed: 14 Traffic_Level  \\\n",
       "0      77.0            0.0                haze          NaN           Low   \n",
       "1      93.0            0.0                mist          NaN     Very High   \n",
       "2      91.0            0.0                mist          NaN           Low   \n",
       "3      78.0            0.0                mist          NaN      Moderate   \n",
       "4      87.0            0.0                mist          NaN          High   \n",
       "\n",
       "   Distance (km)       TARGET  \n",
       "0            NaN  21.66666667  \n",
       "1          37.17  85.26666667  \n",
       "2           3.34  28.58333333  \n",
       "3          10.05  35.18333333  \n",
       "4           9.89        43.45  "
      ]
     },
     "execution_count": 2,
     "metadata": {},
     "output_type": "execute_result"
    }
   ],
   "source": [
    "# read the dataset\n",
    "df = pd.read_csv(\"../fooddelivery_data/Food_Time_Data_Set.csv\")\n",
    "df.head()"
   ]
  },
  {
   "cell_type": "code",
   "execution_count": 3,
   "metadata": {},
   "outputs": [
    {
     "name": "stdout",
     "output_type": "stream",
     "text": [
      "<class 'pandas.core.frame.DataFrame'>\n",
      "RangeIndex: 10001 entries, 0 to 10000\n",
      "Data columns (total 18 columns):\n",
      " #   Column                       Non-Null Count  Dtype  \n",
      "---  ------                       --------------  -----  \n",
      " 0   ID                           10000 non-null  object \n",
      " 1   Delivery_person_ID           10000 non-null  object \n",
      " 2   Delivery_person_Age          10000 non-null  float64\n",
      " 3   Delivery_person_Ratings      10000 non-null  float64\n",
      " 4   Restaurant_latitude          10000 non-null  float64\n",
      " 5   Restaurant_longitude         10000 non-null  float64\n",
      " 6   Delivery_location_latitude   10000 non-null  float64\n",
      " 7   Delivery_location_longitude  10000 non-null  float64\n",
      " 8   Type_of_order                10000 non-null  object \n",
      " 9   Type_of_vehicle              10000 non-null  object \n",
      " 10  temperature                  9995 non-null   float64\n",
      " 11  humidity                     9995 non-null   float64\n",
      " 12  precipitation                9995 non-null   float64\n",
      " 13  weather_description          9995 non-null   object \n",
      " 14  Unnamed: 14                  0 non-null      float64\n",
      " 15  Traffic_Level                9085 non-null   object \n",
      " 16  Distance (km)                9080 non-null   float64\n",
      " 17  TARGET                       9459 non-null   object \n",
      "dtypes: float64(11), object(7)\n",
      "memory usage: 1.4+ MB\n"
     ]
    }
   ],
   "source": [
    "df.info()"
   ]
  },
  {
   "cell_type": "code",
   "execution_count": 4,
   "metadata": {},
   "outputs": [
    {
     "data": {
      "text/plain": [
       "ID                                 1\n",
       "Delivery_person_ID                 1\n",
       "Delivery_person_Age                1\n",
       "Delivery_person_Ratings            1\n",
       "Restaurant_latitude                1\n",
       "Restaurant_longitude               1\n",
       "Delivery_location_latitude         1\n",
       "Delivery_location_longitude        1\n",
       "Type_of_order                      1\n",
       "Type_of_vehicle                    1\n",
       "temperature                        6\n",
       "humidity                           6\n",
       "precipitation                      6\n",
       "weather_description                6\n",
       "Unnamed: 14                    10001\n",
       "Traffic_Level                    916\n",
       "Distance (km)                    921\n",
       "TARGET                           542\n",
       "dtype: int64"
      ]
     },
     "execution_count": 4,
     "metadata": {},
     "output_type": "execute_result"
    }
   ],
   "source": [
    "df.isna().sum()"
   ]
  },
  {
   "cell_type": "code",
   "execution_count": 5,
   "metadata": {},
   "outputs": [
    {
     "data": {
      "text/html": [
       "<div>\n",
       "<style scoped>\n",
       "    .dataframe tbody tr th:only-of-type {\n",
       "        vertical-align: middle;\n",
       "    }\n",
       "\n",
       "    .dataframe tbody tr th {\n",
       "        vertical-align: top;\n",
       "    }\n",
       "\n",
       "    .dataframe thead th {\n",
       "        text-align: right;\n",
       "    }\n",
       "</style>\n",
       "<table border=\"1\" class=\"dataframe\">\n",
       "  <thead>\n",
       "    <tr style=\"text-align: right;\">\n",
       "      <th></th>\n",
       "      <th>ID</th>\n",
       "      <th>Delivery_person_ID</th>\n",
       "      <th>Delivery_person_Age</th>\n",
       "      <th>Delivery_person_Ratings</th>\n",
       "      <th>Restaurant_latitude</th>\n",
       "      <th>Restaurant_longitude</th>\n",
       "      <th>Delivery_location_latitude</th>\n",
       "      <th>Delivery_location_longitude</th>\n",
       "      <th>Type_of_order</th>\n",
       "      <th>Type_of_vehicle</th>\n",
       "      <th>temperature</th>\n",
       "      <th>humidity</th>\n",
       "      <th>precipitation</th>\n",
       "      <th>weather_description</th>\n",
       "      <th>Traffic_Level</th>\n",
       "      <th>Distance (km)</th>\n",
       "      <th>TARGET</th>\n",
       "    </tr>\n",
       "  </thead>\n",
       "  <tbody>\n",
       "    <tr>\n",
       "      <th>0</th>\n",
       "      <td>4607</td>\n",
       "      <td>INDORES13DEL02</td>\n",
       "      <td>37.0</td>\n",
       "      <td>4.9</td>\n",
       "      <td>22.745049</td>\n",
       "      <td>75.892471</td>\n",
       "      <td>22.765049</td>\n",
       "      <td>75.912471</td>\n",
       "      <td>Snack</td>\n",
       "      <td>motorcycle</td>\n",
       "      <td>17.11</td>\n",
       "      <td>77.0</td>\n",
       "      <td>0.0</td>\n",
       "      <td>haze</td>\n",
       "      <td>Low</td>\n",
       "      <td>NaN</td>\n",
       "      <td>21.66666667</td>\n",
       "    </tr>\n",
       "    <tr>\n",
       "      <th>1</th>\n",
       "      <td>B379</td>\n",
       "      <td>BANGRES18DEL02</td>\n",
       "      <td>34.0</td>\n",
       "      <td>4.5</td>\n",
       "      <td>12.913041</td>\n",
       "      <td>77.683237</td>\n",
       "      <td>13.043041</td>\n",
       "      <td>77.813237</td>\n",
       "      <td>Snack</td>\n",
       "      <td>scooter</td>\n",
       "      <td>19.50</td>\n",
       "      <td>93.0</td>\n",
       "      <td>0.0</td>\n",
       "      <td>mist</td>\n",
       "      <td>Very High</td>\n",
       "      <td>37.17</td>\n",
       "      <td>85.26666667</td>\n",
       "    </tr>\n",
       "    <tr>\n",
       "      <th>2</th>\n",
       "      <td>5D6D</td>\n",
       "      <td>BANGRES19DEL01</td>\n",
       "      <td>23.0</td>\n",
       "      <td>4.4</td>\n",
       "      <td>12.914264</td>\n",
       "      <td>77.678400</td>\n",
       "      <td>12.924264</td>\n",
       "      <td>77.688400</td>\n",
       "      <td>Drinks</td>\n",
       "      <td>motorcycle</td>\n",
       "      <td>20.45</td>\n",
       "      <td>91.0</td>\n",
       "      <td>0.0</td>\n",
       "      <td>mist</td>\n",
       "      <td>Low</td>\n",
       "      <td>3.34</td>\n",
       "      <td>28.58333333</td>\n",
       "    </tr>\n",
       "    <tr>\n",
       "      <th>3</th>\n",
       "      <td>7A6A</td>\n",
       "      <td>COIMBRES13DEL02</td>\n",
       "      <td>38.0</td>\n",
       "      <td>4.7</td>\n",
       "      <td>11.003669</td>\n",
       "      <td>76.976494</td>\n",
       "      <td>11.053669</td>\n",
       "      <td>77.026494</td>\n",
       "      <td>Buffet</td>\n",
       "      <td>motorcycle</td>\n",
       "      <td>23.86</td>\n",
       "      <td>78.0</td>\n",
       "      <td>0.0</td>\n",
       "      <td>mist</td>\n",
       "      <td>Moderate</td>\n",
       "      <td>10.05</td>\n",
       "      <td>35.18333333</td>\n",
       "    </tr>\n",
       "    <tr>\n",
       "      <th>4</th>\n",
       "      <td>70A2</td>\n",
       "      <td>CHENRES12DEL01</td>\n",
       "      <td>32.0</td>\n",
       "      <td>4.6</td>\n",
       "      <td>12.972793</td>\n",
       "      <td>80.249982</td>\n",
       "      <td>13.012793</td>\n",
       "      <td>80.289982</td>\n",
       "      <td>Snack</td>\n",
       "      <td>scooter</td>\n",
       "      <td>26.55</td>\n",
       "      <td>87.0</td>\n",
       "      <td>0.0</td>\n",
       "      <td>mist</td>\n",
       "      <td>High</td>\n",
       "      <td>9.89</td>\n",
       "      <td>43.45</td>\n",
       "    </tr>\n",
       "  </tbody>\n",
       "</table>\n",
       "</div>"
      ],
      "text/plain": [
       "     ID Delivery_person_ID  Delivery_person_Age  Delivery_person_Ratings  \\\n",
       "0  4607     INDORES13DEL02                 37.0                      4.9   \n",
       "1  B379     BANGRES18DEL02                 34.0                      4.5   \n",
       "2  5D6D     BANGRES19DEL01                 23.0                      4.4   \n",
       "3  7A6A    COIMBRES13DEL02                 38.0                      4.7   \n",
       "4  70A2     CHENRES12DEL01                 32.0                      4.6   \n",
       "\n",
       "   Restaurant_latitude  Restaurant_longitude  Delivery_location_latitude  \\\n",
       "0            22.745049             75.892471                   22.765049   \n",
       "1            12.913041             77.683237                   13.043041   \n",
       "2            12.914264             77.678400                   12.924264   \n",
       "3            11.003669             76.976494                   11.053669   \n",
       "4            12.972793             80.249982                   13.012793   \n",
       "\n",
       "   Delivery_location_longitude Type_of_order Type_of_vehicle  temperature  \\\n",
       "0                    75.912471        Snack      motorcycle         17.11   \n",
       "1                    77.813237        Snack         scooter         19.50   \n",
       "2                    77.688400       Drinks      motorcycle         20.45   \n",
       "3                    77.026494       Buffet      motorcycle         23.86   \n",
       "4                    80.289982        Snack         scooter         26.55   \n",
       "\n",
       "   humidity  precipitation weather_description Traffic_Level  Distance (km)  \\\n",
       "0      77.0            0.0                haze           Low            NaN   \n",
       "1      93.0            0.0                mist     Very High          37.17   \n",
       "2      91.0            0.0                mist           Low           3.34   \n",
       "3      78.0            0.0                mist      Moderate          10.05   \n",
       "4      87.0            0.0                mist          High           9.89   \n",
       "\n",
       "        TARGET  \n",
       "0  21.66666667  \n",
       "1  85.26666667  \n",
       "2  28.58333333  \n",
       "3  35.18333333  \n",
       "4        43.45  "
      ]
     },
     "execution_count": 5,
     "metadata": {},
     "output_type": "execute_result"
    }
   ],
   "source": [
    "# Unnamed: 14 has all blank values\n",
    "clean_df = df.drop(columns=['Unnamed: 14'],axis=1)\n",
    "clean_df.head()"
   ]
  },
  {
   "cell_type": "code",
   "execution_count": 6,
   "metadata": {},
   "outputs": [
    {
     "name": "stdout",
     "output_type": "stream",
     "text": [
      "(10001, 17)\n"
     ]
    }
   ],
   "source": [
    "print(clean_df.shape)"
   ]
  },
  {
   "cell_type": "code",
   "execution_count": 7,
   "metadata": {},
   "outputs": [
    {
     "name": "stdout",
     "output_type": "stream",
     "text": [
      "Are there any rows with all NaN values? True\n"
     ]
    }
   ],
   "source": [
    "# check if there are any rows in the DataFrame where all values are NaN\n",
    "has_all_nan = clean_df.isna().all(axis=1).any()\n",
    "print(f\"Are there any rows with all NaN values? {has_all_nan}\")"
   ]
  },
  {
   "cell_type": "code",
   "execution_count": 8,
   "metadata": {},
   "outputs": [
    {
     "name": "stdout",
     "output_type": "stream",
     "text": [
      "Number of rows with all NaN values: 1\n"
     ]
    }
   ],
   "source": [
    "# count how many such rows exist\n",
    "all_nan_count = clean_df.isna().all(axis=1).sum()\n",
    "print(f\"Number of rows with all NaN values: {all_nan_count}\")"
   ]
  },
  {
   "cell_type": "code",
   "execution_count": 9,
   "metadata": {},
   "outputs": [
    {
     "name": "stdout",
     "output_type": "stream",
     "text": [
      "Indices of rows with all NaN values: [10000]\n",
      "        ID Delivery_person_ID  Delivery_person_Age  Delivery_person_Ratings  \\\n",
      "10000  NaN                NaN                  NaN                      NaN   \n",
      "\n",
      "       Restaurant_latitude  Restaurant_longitude  Delivery_location_latitude  \\\n",
      "10000                  NaN                   NaN                         NaN   \n",
      "\n",
      "       Delivery_location_longitude Type_of_order Type_of_vehicle  temperature  \\\n",
      "10000                          NaN           NaN             NaN          NaN   \n",
      "\n",
      "       humidity  precipitation weather_description Traffic_Level  \\\n",
      "10000       NaN            NaN                 NaN           NaN   \n",
      "\n",
      "       Distance (km) TARGET  \n",
      "10000            NaN    NaN  \n"
     ]
    }
   ],
   "source": [
    "# display all rows where every column contains NaN\n",
    "# all_nan_rows = clean_df[clean_df.isna().all(axis=1)]\n",
    "# print(all_nan_rows)\n",
    "\n",
    "# display only the indices of these rows\n",
    "all_nan_indices = clean_df[clean_df.isna().all(axis=1)].index\n",
    "print(f\"Indices of rows with all NaN values: {list(all_nan_indices)}\")\n",
    "rows = clean_df.loc[all_nan_indices]\n",
    "print(rows)"
   ]
  },
  {
   "cell_type": "code",
   "execution_count": 10,
   "metadata": {},
   "outputs": [],
   "source": [
    "# Drop rows with all NaN values\n",
    "clean_df = clean_df.dropna(how='all')"
   ]
  },
  {
   "cell_type": "code",
   "execution_count": 11,
   "metadata": {},
   "outputs": [
    {
     "name": "stdout",
     "output_type": "stream",
     "text": [
      "(10000, 17)\n"
     ]
    }
   ],
   "source": [
    "print(clean_df.shape)"
   ]
  },
  {
   "cell_type": "code",
   "execution_count": 12,
   "metadata": {},
   "outputs": [
    {
     "data": {
      "text/html": [
       "<div>\n",
       "<style scoped>\n",
       "    .dataframe tbody tr th:only-of-type {\n",
       "        vertical-align: middle;\n",
       "    }\n",
       "\n",
       "    .dataframe tbody tr th {\n",
       "        vertical-align: top;\n",
       "    }\n",
       "\n",
       "    .dataframe thead th {\n",
       "        text-align: right;\n",
       "    }\n",
       "</style>\n",
       "<table border=\"1\" class=\"dataframe\">\n",
       "  <thead>\n",
       "    <tr style=\"text-align: right;\">\n",
       "      <th></th>\n",
       "      <th>ID</th>\n",
       "      <th>Delivery_person_ID</th>\n",
       "      <th>Delivery_person_Age</th>\n",
       "      <th>Delivery_person_Ratings</th>\n",
       "      <th>Restaurant_latitude</th>\n",
       "      <th>Restaurant_longitude</th>\n",
       "      <th>Delivery_location_latitude</th>\n",
       "      <th>Delivery_location_longitude</th>\n",
       "      <th>Type_of_order</th>\n",
       "      <th>Type_of_vehicle</th>\n",
       "      <th>temperature</th>\n",
       "      <th>humidity</th>\n",
       "      <th>precipitation</th>\n",
       "      <th>weather_description</th>\n",
       "      <th>Traffic_Level</th>\n",
       "      <th>Distance (km)</th>\n",
       "      <th>TARGET</th>\n",
       "    </tr>\n",
       "  </thead>\n",
       "  <tbody>\n",
       "    <tr>\n",
       "      <th>0</th>\n",
       "      <td>4607</td>\n",
       "      <td>INDORES13DEL02</td>\n",
       "      <td>37.0</td>\n",
       "      <td>4.9</td>\n",
       "      <td>22.745049</td>\n",
       "      <td>75.892471</td>\n",
       "      <td>22.765049</td>\n",
       "      <td>75.912471</td>\n",
       "      <td>Snack</td>\n",
       "      <td>motorcycle</td>\n",
       "      <td>17.11</td>\n",
       "      <td>77.0</td>\n",
       "      <td>0.0</td>\n",
       "      <td>haze</td>\n",
       "      <td>Low</td>\n",
       "      <td>NaN</td>\n",
       "      <td>21.66666667</td>\n",
       "    </tr>\n",
       "    <tr>\n",
       "      <th>1</th>\n",
       "      <td>B379</td>\n",
       "      <td>BANGRES18DEL02</td>\n",
       "      <td>34.0</td>\n",
       "      <td>4.5</td>\n",
       "      <td>12.913041</td>\n",
       "      <td>77.683237</td>\n",
       "      <td>13.043041</td>\n",
       "      <td>77.813237</td>\n",
       "      <td>Snack</td>\n",
       "      <td>scooter</td>\n",
       "      <td>19.50</td>\n",
       "      <td>93.0</td>\n",
       "      <td>0.0</td>\n",
       "      <td>mist</td>\n",
       "      <td>Very High</td>\n",
       "      <td>37.17</td>\n",
       "      <td>85.26666667</td>\n",
       "    </tr>\n",
       "    <tr>\n",
       "      <th>2</th>\n",
       "      <td>5D6D</td>\n",
       "      <td>BANGRES19DEL01</td>\n",
       "      <td>23.0</td>\n",
       "      <td>4.4</td>\n",
       "      <td>12.914264</td>\n",
       "      <td>77.678400</td>\n",
       "      <td>12.924264</td>\n",
       "      <td>77.688400</td>\n",
       "      <td>Drinks</td>\n",
       "      <td>motorcycle</td>\n",
       "      <td>20.45</td>\n",
       "      <td>91.0</td>\n",
       "      <td>0.0</td>\n",
       "      <td>mist</td>\n",
       "      <td>Low</td>\n",
       "      <td>3.34</td>\n",
       "      <td>28.58333333</td>\n",
       "    </tr>\n",
       "    <tr>\n",
       "      <th>3</th>\n",
       "      <td>7A6A</td>\n",
       "      <td>COIMBRES13DEL02</td>\n",
       "      <td>38.0</td>\n",
       "      <td>4.7</td>\n",
       "      <td>11.003669</td>\n",
       "      <td>76.976494</td>\n",
       "      <td>11.053669</td>\n",
       "      <td>77.026494</td>\n",
       "      <td>Buffet</td>\n",
       "      <td>motorcycle</td>\n",
       "      <td>23.86</td>\n",
       "      <td>78.0</td>\n",
       "      <td>0.0</td>\n",
       "      <td>mist</td>\n",
       "      <td>Moderate</td>\n",
       "      <td>10.05</td>\n",
       "      <td>35.18333333</td>\n",
       "    </tr>\n",
       "    <tr>\n",
       "      <th>4</th>\n",
       "      <td>70A2</td>\n",
       "      <td>CHENRES12DEL01</td>\n",
       "      <td>32.0</td>\n",
       "      <td>4.6</td>\n",
       "      <td>12.972793</td>\n",
       "      <td>80.249982</td>\n",
       "      <td>13.012793</td>\n",
       "      <td>80.289982</td>\n",
       "      <td>Snack</td>\n",
       "      <td>scooter</td>\n",
       "      <td>26.55</td>\n",
       "      <td>87.0</td>\n",
       "      <td>0.0</td>\n",
       "      <td>mist</td>\n",
       "      <td>High</td>\n",
       "      <td>9.89</td>\n",
       "      <td>43.45</td>\n",
       "    </tr>\n",
       "  </tbody>\n",
       "</table>\n",
       "</div>"
      ],
      "text/plain": [
       "     ID Delivery_person_ID  Delivery_person_Age  Delivery_person_Ratings  \\\n",
       "0  4607     INDORES13DEL02                 37.0                      4.9   \n",
       "1  B379     BANGRES18DEL02                 34.0                      4.5   \n",
       "2  5D6D     BANGRES19DEL01                 23.0                      4.4   \n",
       "3  7A6A    COIMBRES13DEL02                 38.0                      4.7   \n",
       "4  70A2     CHENRES12DEL01                 32.0                      4.6   \n",
       "\n",
       "   Restaurant_latitude  Restaurant_longitude  Delivery_location_latitude  \\\n",
       "0            22.745049             75.892471                   22.765049   \n",
       "1            12.913041             77.683237                   13.043041   \n",
       "2            12.914264             77.678400                   12.924264   \n",
       "3            11.003669             76.976494                   11.053669   \n",
       "4            12.972793             80.249982                   13.012793   \n",
       "\n",
       "   Delivery_location_longitude Type_of_order Type_of_vehicle  temperature  \\\n",
       "0                    75.912471        Snack      motorcycle         17.11   \n",
       "1                    77.813237        Snack         scooter         19.50   \n",
       "2                    77.688400       Drinks      motorcycle         20.45   \n",
       "3                    77.026494       Buffet      motorcycle         23.86   \n",
       "4                    80.289982        Snack         scooter         26.55   \n",
       "\n",
       "   humidity  precipitation weather_description Traffic_Level  Distance (km)  \\\n",
       "0      77.0            0.0                haze           Low            NaN   \n",
       "1      93.0            0.0                mist     Very High          37.17   \n",
       "2      91.0            0.0                mist           Low           3.34   \n",
       "3      78.0            0.0                mist      Moderate          10.05   \n",
       "4      87.0            0.0                mist          High           9.89   \n",
       "\n",
       "        TARGET  \n",
       "0  21.66666667  \n",
       "1  85.26666667  \n",
       "2  28.58333333  \n",
       "3  35.18333333  \n",
       "4        43.45  "
      ]
     },
     "execution_count": 12,
     "metadata": {},
     "output_type": "execute_result"
    }
   ],
   "source": [
    "clean_df.head()"
   ]
  },
  {
   "cell_type": "code",
   "execution_count": 13,
   "metadata": {},
   "outputs": [
    {
     "data": {
      "text/plain": [
       "ID                               0\n",
       "Delivery_person_ID               0\n",
       "Delivery_person_Age              0\n",
       "Delivery_person_Ratings          0\n",
       "Restaurant_latitude              0\n",
       "Restaurant_longitude             0\n",
       "Delivery_location_latitude       0\n",
       "Delivery_location_longitude      0\n",
       "Type_of_order                    0\n",
       "Type_of_vehicle                  0\n",
       "temperature                      5\n",
       "humidity                         5\n",
       "precipitation                    5\n",
       "weather_description              5\n",
       "Traffic_Level                  915\n",
       "Distance (km)                  920\n",
       "TARGET                         541\n",
       "dtype: int64"
      ]
     },
     "execution_count": 13,
     "metadata": {},
     "output_type": "execute_result"
    }
   ],
   "source": [
    "clean_df.isna().sum()"
   ]
  },
  {
   "cell_type": "code",
   "execution_count": 14,
   "metadata": {},
   "outputs": [
    {
     "name": "stdout",
     "output_type": "stream",
     "text": [
      "Distance (km)          9.20\n",
      "Traffic_Level          9.15\n",
      "TARGET                 5.41\n",
      "precipitation          0.05\n",
      "humidity               0.05\n",
      "temperature            0.05\n",
      "weather_description    0.05\n",
      "dtype: float64\n"
     ]
    }
   ],
   "source": [
    "# calculate the percentage of null values for each column\n",
    "nan_percentage = ((clean_df.isna().sum() / len(clean_df)) * 100).round(2)\n",
    "nan_percentage = nan_percentage[nan_percentage > 0].sort_values(ascending=False)\n",
    "print(nan_percentage)"
   ]
  },
  {
   "cell_type": "code",
   "execution_count": 15,
   "metadata": {},
   "outputs": [],
   "source": [
    "# remove rows that have missing values in the column 'TARGET'\n",
    "clean_df = clean_df.dropna(subset=['TARGET'])"
   ]
  },
  {
   "cell_type": "code",
   "execution_count": 16,
   "metadata": {},
   "outputs": [
    {
     "name": "stdout",
     "output_type": "stream",
     "text": [
      "ID                               0\n",
      "Delivery_person_ID               0\n",
      "Delivery_person_Age              0\n",
      "Delivery_person_Ratings          0\n",
      "Restaurant_latitude            307\n",
      "Restaurant_longitude           307\n",
      "Delivery_location_latitude       0\n",
      "Delivery_location_longitude      0\n",
      "Type_of_order                    0\n",
      "Type_of_vehicle                  0\n",
      "temperature                      0\n",
      "humidity                         0\n",
      "precipitation                    0\n",
      "weather_description              0\n",
      "Traffic_Level                  419\n",
      "Distance (km)                  424\n",
      "TARGET                           0\n",
      "dtype: int64\n"
     ]
    }
   ],
   "source": [
    "# replace 0.0 values with nan to teat them as null values\n",
    "columns_to_replace = ['Restaurant_latitude', 'Restaurant_longitude', \n",
    "                       'Delivery_location_latitude', 'Delivery_location_longitude']\n",
    "clean_df[columns_to_replace] = clean_df[columns_to_replace].replace(0.0, np.nan)\n",
    "print(clean_df.isna().sum())"
   ]
  },
  {
   "cell_type": "code",
   "execution_count": 17,
   "metadata": {},
   "outputs": [],
   "source": [
    "# remove rows that have missing values in the column Restaurant_latitude, Restaurant_longitude\n",
    "clean_df = clean_df.dropna(subset=['Restaurant_latitude','Restaurant_longitude'])"
   ]
  },
  {
   "cell_type": "code",
   "execution_count": 18,
   "metadata": {},
   "outputs": [
    {
     "data": {
      "text/html": [
       "<div>\n",
       "<style scoped>\n",
       "    .dataframe tbody tr th:only-of-type {\n",
       "        vertical-align: middle;\n",
       "    }\n",
       "\n",
       "    .dataframe tbody tr th {\n",
       "        vertical-align: top;\n",
       "    }\n",
       "\n",
       "    .dataframe thead th {\n",
       "        text-align: right;\n",
       "    }\n",
       "</style>\n",
       "<table border=\"1\" class=\"dataframe\">\n",
       "  <thead>\n",
       "    <tr style=\"text-align: right;\">\n",
       "      <th></th>\n",
       "      <th>Delivery_person_Age</th>\n",
       "      <th>Delivery_person_Ratings</th>\n",
       "      <th>Restaurant_latitude</th>\n",
       "      <th>Restaurant_longitude</th>\n",
       "      <th>Delivery_location_latitude</th>\n",
       "      <th>Delivery_location_longitude</th>\n",
       "      <th>temperature</th>\n",
       "      <th>humidity</th>\n",
       "      <th>precipitation</th>\n",
       "      <th>Distance (km)</th>\n",
       "    </tr>\n",
       "  </thead>\n",
       "  <tbody>\n",
       "    <tr>\n",
       "      <th>count</th>\n",
       "      <td>9152.00000</td>\n",
       "      <td>9152.000000</td>\n",
       "      <td>9152.000000</td>\n",
       "      <td>9152.000000</td>\n",
       "      <td>9152.000000</td>\n",
       "      <td>9152.000000</td>\n",
       "      <td>9152.000000</td>\n",
       "      <td>9152.000000</td>\n",
       "      <td>9152.000000</td>\n",
       "      <td>9035.000000</td>\n",
       "    </tr>\n",
       "    <tr>\n",
       "      <th>mean</th>\n",
       "      <td>29.52382</td>\n",
       "      <td>4.626464</td>\n",
       "      <td>18.397783</td>\n",
       "      <td>76.279822</td>\n",
       "      <td>18.957159</td>\n",
       "      <td>77.041440</td>\n",
       "      <td>22.624415</td>\n",
       "      <td>64.587194</td>\n",
       "      <td>0.000373</td>\n",
       "      <td>14.275582</td>\n",
       "    </tr>\n",
       "    <tr>\n",
       "      <th>std</th>\n",
       "      <td>5.69669</td>\n",
       "      <td>0.325866</td>\n",
       "      <td>6.954676</td>\n",
       "      <td>10.937251</td>\n",
       "      <td>5.468639</td>\n",
       "      <td>3.557927</td>\n",
       "      <td>3.361800</td>\n",
       "      <td>15.366987</td>\n",
       "      <td>0.018198</td>\n",
       "      <td>8.372376</td>\n",
       "    </tr>\n",
       "    <tr>\n",
       "      <th>min</th>\n",
       "      <td>15.00000</td>\n",
       "      <td>1.000000</td>\n",
       "      <td>-30.902872</td>\n",
       "      <td>-88.352885</td>\n",
       "      <td>9.967144</td>\n",
       "      <td>72.778726</td>\n",
       "      <td>6.770000</td>\n",
       "      <td>27.000000</td>\n",
       "      <td>0.000000</td>\n",
       "      <td>1.550000</td>\n",
       "    </tr>\n",
       "    <tr>\n",
       "      <th>25%</th>\n",
       "      <td>25.00000</td>\n",
       "      <td>4.500000</td>\n",
       "      <td>12.979166</td>\n",
       "      <td>73.897902</td>\n",
       "      <td>13.063298</td>\n",
       "      <td>73.949315</td>\n",
       "      <td>19.947500</td>\n",
       "      <td>52.000000</td>\n",
       "      <td>0.000000</td>\n",
       "      <td>7.610000</td>\n",
       "    </tr>\n",
       "    <tr>\n",
       "      <th>50%</th>\n",
       "      <td>29.00000</td>\n",
       "      <td>4.700000</td>\n",
       "      <td>18.994237</td>\n",
       "      <td>76.619103</td>\n",
       "      <td>19.119300</td>\n",
       "      <td>76.673067</td>\n",
       "      <td>22.860000</td>\n",
       "      <td>65.000000</td>\n",
       "      <td>0.000000</td>\n",
       "      <td>13.400000</td>\n",
       "    </tr>\n",
       "    <tr>\n",
       "      <th>75%</th>\n",
       "      <td>34.00000</td>\n",
       "      <td>4.800000</td>\n",
       "      <td>22.748060</td>\n",
       "      <td>78.368855</td>\n",
       "      <td>22.818163</td>\n",
       "      <td>78.407865</td>\n",
       "      <td>25.000000</td>\n",
       "      <td>73.000000</td>\n",
       "      <td>0.000000</td>\n",
       "      <td>19.590000</td>\n",
       "    </tr>\n",
       "    <tr>\n",
       "      <th>max</th>\n",
       "      <td>50.00000</td>\n",
       "      <td>6.000000</td>\n",
       "      <td>30.914057</td>\n",
       "      <td>88.433452</td>\n",
       "      <td>31.054057</td>\n",
       "      <td>88.563452</td>\n",
       "      <td>29.050000</td>\n",
       "      <td>94.000000</td>\n",
       "      <td>1.460000</td>\n",
       "      <td>59.840000</td>\n",
       "    </tr>\n",
       "  </tbody>\n",
       "</table>\n",
       "</div>"
      ],
      "text/plain": [
       "       Delivery_person_Age  Delivery_person_Ratings  Restaurant_latitude  \\\n",
       "count           9152.00000              9152.000000          9152.000000   \n",
       "mean              29.52382                 4.626464            18.397783   \n",
       "std                5.69669                 0.325866             6.954676   \n",
       "min               15.00000                 1.000000           -30.902872   \n",
       "25%               25.00000                 4.500000            12.979166   \n",
       "50%               29.00000                 4.700000            18.994237   \n",
       "75%               34.00000                 4.800000            22.748060   \n",
       "max               50.00000                 6.000000            30.914057   \n",
       "\n",
       "       Restaurant_longitude  Delivery_location_latitude  \\\n",
       "count           9152.000000                 9152.000000   \n",
       "mean              76.279822                   18.957159   \n",
       "std               10.937251                    5.468639   \n",
       "min              -88.352885                    9.967144   \n",
       "25%               73.897902                   13.063298   \n",
       "50%               76.619103                   19.119300   \n",
       "75%               78.368855                   22.818163   \n",
       "max               88.433452                   31.054057   \n",
       "\n",
       "       Delivery_location_longitude  temperature     humidity  precipitation  \\\n",
       "count                  9152.000000  9152.000000  9152.000000    9152.000000   \n",
       "mean                     77.041440    22.624415    64.587194       0.000373   \n",
       "std                       3.557927     3.361800    15.366987       0.018198   \n",
       "min                      72.778726     6.770000    27.000000       0.000000   \n",
       "25%                      73.949315    19.947500    52.000000       0.000000   \n",
       "50%                      76.673067    22.860000    65.000000       0.000000   \n",
       "75%                      78.407865    25.000000    73.000000       0.000000   \n",
       "max                      88.563452    29.050000    94.000000       1.460000   \n",
       "\n",
       "       Distance (km)  \n",
       "count    9035.000000  \n",
       "mean       14.275582  \n",
       "std         8.372376  \n",
       "min         1.550000  \n",
       "25%         7.610000  \n",
       "50%        13.400000  \n",
       "75%        19.590000  \n",
       "max        59.840000  "
      ]
     },
     "execution_count": 18,
     "metadata": {},
     "output_type": "execute_result"
    }
   ],
   "source": [
    "clean_df.describe()"
   ]
  },
  {
   "cell_type": "code",
   "execution_count": 19,
   "metadata": {},
   "outputs": [
    {
     "name": "stdout",
     "output_type": "stream",
     "text": [
      "<class 'pandas.core.frame.DataFrame'>\n",
      "Index: 9152 entries, 0 to 9999\n",
      "Data columns (total 17 columns):\n",
      " #   Column                       Non-Null Count  Dtype  \n",
      "---  ------                       --------------  -----  \n",
      " 0   ID                           9152 non-null   object \n",
      " 1   Delivery_person_ID           9152 non-null   object \n",
      " 2   Delivery_person_Age          9152 non-null   float64\n",
      " 3   Delivery_person_Ratings      9152 non-null   float64\n",
      " 4   Restaurant_latitude          9152 non-null   float64\n",
      " 5   Restaurant_longitude         9152 non-null   float64\n",
      " 6   Delivery_location_latitude   9152 non-null   float64\n",
      " 7   Delivery_location_longitude  9152 non-null   float64\n",
      " 8   Type_of_order                9152 non-null   object \n",
      " 9   Type_of_vehicle              9152 non-null   object \n",
      " 10  temperature                  9152 non-null   float64\n",
      " 11  humidity                     9152 non-null   float64\n",
      " 12  precipitation                9152 non-null   float64\n",
      " 13  weather_description          9152 non-null   object \n",
      " 14  Traffic_Level                9040 non-null   object \n",
      " 15  Distance (km)                9035 non-null   float64\n",
      " 16  TARGET                       9152 non-null   object \n",
      "dtypes: float64(10), object(7)\n",
      "memory usage: 1.3+ MB\n"
     ]
    }
   ],
   "source": [
    "clean_df.info()"
   ]
  },
  {
   "cell_type": "code",
   "execution_count": 20,
   "metadata": {},
   "outputs": [
    {
     "data": {
      "text/plain": [
       "Type_of_order\n",
       "Snack      2335\n",
       "Meal       2315\n",
       "Drinks     2299\n",
       "Buffet     2203\n",
       "Name: count, dtype: int64"
      ]
     },
     "execution_count": 20,
     "metadata": {},
     "output_type": "execute_result"
    }
   ],
   "source": [
    "order_type_df = clean_df['Type_of_order'].value_counts()\n",
    "order_type_df"
   ]
  },
  {
   "cell_type": "code",
   "execution_count": 21,
   "metadata": {},
   "outputs": [
    {
     "data": {
      "text/plain": [
       "Type_of_vehicle\n",
       "motorcycle           5400\n",
       "scooter              3010\n",
       "electric_scooter      724\n",
       "bicycle                18\n",
       "Name: count, dtype: int64"
      ]
     },
     "execution_count": 21,
     "metadata": {},
     "output_type": "execute_result"
    }
   ],
   "source": [
    "vehicle_type_df = clean_df['Type_of_vehicle'].value_counts()\n",
    "vehicle_type_df"
   ]
  },
  {
   "cell_type": "code",
   "execution_count": 22,
   "metadata": {},
   "outputs": [
    {
     "data": {
      "text/plain": [
       "Traffic_Level\n",
       "High         2730\n",
       "Moderate     2212\n",
       "Very High    1748\n",
       "Low          1718\n",
       "Very Low      632\n",
       "Name: count, dtype: int64"
      ]
     },
     "execution_count": 22,
     "metadata": {},
     "output_type": "execute_result"
    }
   ],
   "source": [
    "traffic_Level_df = clean_df['Traffic_Level'].value_counts() \n",
    "traffic_Level_df"
   ]
  },
  {
   "cell_type": "code",
   "execution_count": 23,
   "metadata": {},
   "outputs": [
    {
     "data": {
      "text/plain": [
       "weather_description\n",
       "clear sky           3260\n",
       "haze                2406\n",
       "mist                1751\n",
       "broken clouds        537\n",
       "smoke                501\n",
       "scattered clouds     422\n",
       "overcast clouds      185\n",
       "fog                   49\n",
       "few clouds            40\n",
       "moderate rain          1\n",
       "Name: count, dtype: int64"
      ]
     },
     "execution_count": 23,
     "metadata": {},
     "output_type": "execute_result"
    }
   ],
   "source": [
    "weather_description_df = clean_df['weather_description'].value_counts()\n",
    "weather_description_df"
   ]
  },
  {
   "cell_type": "code",
   "execution_count": 24,
   "metadata": {},
   "outputs": [
    {
     "data": {
      "text/plain": [
       "10"
      ]
     },
     "execution_count": 24,
     "metadata": {},
     "output_type": "execute_result"
    }
   ],
   "source": [
    "numerical_columns = clean_df.select_dtypes(include=['number']).columns\n",
    "len(numerical_columns)"
   ]
  },
  {
   "cell_type": "code",
   "execution_count": 25,
   "metadata": {},
   "outputs": [
    {
     "data": {
      "text/plain": [
       "7"
      ]
     },
     "execution_count": 25,
     "metadata": {},
     "output_type": "execute_result"
    }
   ],
   "source": [
    "categorical_columns = clean_df.select_dtypes(include=['object']).columns\n",
    "len(categorical_columns)"
   ]
  },
  {
   "cell_type": "code",
   "execution_count": 26,
   "metadata": {},
   "outputs": [
    {
     "data": {
      "text/plain": [
       "(9152, 17)"
      ]
     },
     "execution_count": 26,
     "metadata": {},
     "output_type": "execute_result"
    }
   ],
   "source": [
    "clean_df.shape"
   ]
  },
  {
   "cell_type": "code",
   "execution_count": 27,
   "metadata": {},
   "outputs": [
    {
     "name": "stdout",
     "output_type": "stream",
     "text": [
      "<class 'pandas.core.frame.DataFrame'>\n",
      "Index: 9152 entries, 0 to 9999\n",
      "Data columns (total 17 columns):\n",
      " #   Column                       Non-Null Count  Dtype  \n",
      "---  ------                       --------------  -----  \n",
      " 0   ID                           9152 non-null   object \n",
      " 1   Delivery_person_ID           9152 non-null   object \n",
      " 2   Delivery_person_Age          9152 non-null   float64\n",
      " 3   Delivery_person_Ratings      9152 non-null   float64\n",
      " 4   Restaurant_latitude          9152 non-null   float64\n",
      " 5   Restaurant_longitude         9152 non-null   float64\n",
      " 6   Delivery_location_latitude   9152 non-null   float64\n",
      " 7   Delivery_location_longitude  9152 non-null   float64\n",
      " 8   Type_of_order                9152 non-null   object \n",
      " 9   Type_of_vehicle              9152 non-null   object \n",
      " 10  temperature                  9152 non-null   float64\n",
      " 11  humidity                     9152 non-null   float64\n",
      " 12  precipitation                9152 non-null   float64\n",
      " 13  weather_description          9152 non-null   object \n",
      " 14  Traffic_Level                9040 non-null   object \n",
      " 15  Distance (km)                9035 non-null   float64\n",
      " 16  TARGET                       9152 non-null   object \n",
      "dtypes: float64(10), object(7)\n",
      "memory usage: 1.3+ MB\n"
     ]
    }
   ],
   "source": [
    "clean_df.info()"
   ]
  },
  {
   "cell_type": "code",
   "execution_count": 28,
   "metadata": {},
   "outputs": [
    {
     "data": {
      "text/plain": [
       "ID                               0\n",
       "Delivery_person_ID               0\n",
       "Delivery_person_Age              0\n",
       "Delivery_person_Ratings          0\n",
       "Restaurant_latitude              0\n",
       "Restaurant_longitude             0\n",
       "Delivery_location_latitude       0\n",
       "Delivery_location_longitude      0\n",
       "Type_of_order                    0\n",
       "Type_of_vehicle                  0\n",
       "temperature                      0\n",
       "humidity                         0\n",
       "precipitation                    0\n",
       "weather_description              0\n",
       "Traffic_Level                  112\n",
       "Distance (km)                  117\n",
       "TARGET                           0\n",
       "dtype: int64"
      ]
     },
     "execution_count": 28,
     "metadata": {},
     "output_type": "execute_result"
    }
   ],
   "source": [
    "clean_df.isna().sum()"
   ]
  },
  {
   "cell_type": "code",
   "execution_count": 30,
   "metadata": {},
   "outputs": [
    {
     "name": "stdout",
     "output_type": "stream",
     "text": [
      "Failed for row 1976: {'message': 'Impossible route between points', 'code': 'NoRoute'}\n",
      "Failed for row 2138: {'message': 'Impossible route between points', 'code': 'NoRoute'}\n",
      "Failed for row 2689: {'message': 'Impossible route between points', 'code': 'NoRoute'}\n",
      "Failed for row 2759: {'message': 'Impossible route between points', 'code': 'NoRoute'}\n",
      "Failed for row 3944: {'message': 'Impossible route between points', 'code': 'NoRoute'}\n",
      "Failed for row 5217: {'message': 'Impossible route between points', 'code': 'NoRoute'}\n",
      "Failed for row 5350: {'message': 'Impossible route between points', 'code': 'NoRoute'}\n",
      "Failed for row 5743: {'message': 'Impossible route between points', 'code': 'NoRoute'}\n",
      "Failed for row 5992: {'message': 'Impossible route between points', 'code': 'NoRoute'}\n",
      "Failed for row 6093: {'message': 'Impossible route between points', 'code': 'NoRoute'}\n",
      "Failed for row 6431: {'message': 'Impossible route between points', 'code': 'NoRoute'}\n",
      "Failed for row 7988: {'message': 'Impossible route between points', 'code': 'NoRoute'}\n",
      "Failed for row 8422: {'message': 'Impossible route between points', 'code': 'NoRoute'}\n",
      "Failed for row 9220: {'message': 'Impossible route between points', 'code': 'NoRoute'}\n",
      "Failed for row 9758: {'message': 'Impossible route between points', 'code': 'NoRoute'}\n",
      "Failed for row 9921: {'message': 'Impossible route between points', 'code': 'NoRoute'}\n",
      "16\n",
      "117\n"
     ]
    }
   ],
   "source": [
    "import requests\n",
    "\n",
    "# Define the function to calculate distance using OSRM API\n",
    "def calculate_distance(row):\n",
    "    try:\n",
    "        # Extract latitude and longitude values from the row\n",
    "        restaurant_lat = row['Restaurant_latitude']\n",
    "        restaurant_lon = row['Restaurant_longitude']\n",
    "        delivery_lat = row['Delivery_location_latitude']\n",
    "        delivery_lon = row['Delivery_location_longitude']\n",
    "        \n",
    "        # Define the OSRM API endpoint (replace with your endpoint if needed)\n",
    "        osrm_endpoint = \"http://router.project-osrm.org/route/v1/driving/\"\n",
    "        \n",
    "        # Build the request URL\n",
    "        coordinates = f\"{restaurant_lon},{restaurant_lat};{delivery_lon},{delivery_lat}\"\n",
    "        url = f\"{osrm_endpoint}{coordinates}?overview=false\"\n",
    "        \n",
    "        # Send the request to OSRM API\n",
    "        response = requests.get(url)\n",
    "        data = response.json()\n",
    "        \n",
    "        # Extract the distance from the response (in meters)\n",
    "        if response.status_code == 200 and 'routes' in data:\n",
    "            return data['routes'][0]['distance'] / 1000  # Convert to kilometers\n",
    "        else:\n",
    "            print(f\"Failed for row {row.name}: {data}\")\n",
    "            return None  # Return None if the request fails or no route is found\n",
    "    except Exception as e:\n",
    "        print(f\"Error calculating distance for row {row.name}: {e}\")\n",
    "        return None\n",
    "    \n",
    "new_df = clean_df.copy()    \n",
    "\n",
    "# Apply the function to rows with NaN in the 'distance' column\n",
    "clean_df['Distance (km)'] = clean_df.apply(\n",
    "    lambda row: calculate_distance(row) if pd.isna(row['Distance (km)']) else row['Distance (km)'],\n",
    "    axis=1\n",
    ")\n",
    "\n",
    "# Verify the updated DataFrame\n",
    "print(clean_df['Distance (km)'].isna().sum())  # Should show the remaining NaN values (if any)\n",
    "print(new_df['Distance (km)'].isna().sum())  # Should show the remaining NaN values (if any)\n",
    "\n"
   ]
  },
  {
   "cell_type": "code",
   "execution_count": 31,
   "metadata": {},
   "outputs": [
    {
     "name": "stdout",
     "output_type": "stream",
     "text": [
      "      Restaurant_latitude  Restaurant_longitude  Delivery_location_latitude  \\\n",
      "9758           -22.538999             88.322337                   22.598999   \n",
      "9921           -22.537960             88.349843                   22.607960   \n",
      "\n",
      "      Delivery_location_longitude  \n",
      "9758                    88.382337  \n",
      "9921                    88.419843  \n"
     ]
    }
   ],
   "source": [
    "no_route_rows = clean_df.loc[[9758, 9921]]\n",
    "print(no_route_rows[['Restaurant_latitude', 'Restaurant_longitude', \n",
    "                     'Delivery_location_latitude', 'Delivery_location_longitude']])"
   ]
  },
  {
   "cell_type": "code",
   "execution_count": 35,
   "metadata": {},
   "outputs": [
    {
     "data": {
      "text/plain": [
       "ID                                           56C\n",
       "Delivery_person_ID              RANCHIRES13DEL03\n",
       "Delivery_person_Age                         29.0\n",
       "Delivery_person_Ratings                      4.6\n",
       "Restaurant_latitude                   -23.374989\n",
       "Restaurant_longitude                   85.335486\n",
       "Delivery_location_latitude             23.434989\n",
       "Delivery_location_longitude            85.395486\n",
       "Type_of_order                              Meal \n",
       "Type_of_vehicle                electric_scooter \n",
       "temperature                                16.23\n",
       "humidity                                    94.0\n",
       "precipitation                                0.0\n",
       "weather_description                         mist\n",
       "Traffic_Level                                NaN\n",
       "Distance (km)                                NaN\n",
       "TARGET                                   #VALUE!\n",
       "Name: 3944, dtype: object"
      ]
     },
     "execution_count": 35,
     "metadata": {},
     "output_type": "execute_result"
    }
   ],
   "source": [
    "clean_df.loc[3944]"
   ]
  },
  {
   "cell_type": "code",
   "execution_count": 36,
   "metadata": {},
   "outputs": [],
   "source": [
    "# remove rows that have missing values in the column 'Distance (km)'\n",
    "clean_df = clean_df.dropna(subset=['Distance (km)'])"
   ]
  },
  {
   "cell_type": "code",
   "execution_count": 37,
   "metadata": {},
   "outputs": [
    {
     "data": {
      "text/plain": [
       "ID                              0\n",
       "Delivery_person_ID              0\n",
       "Delivery_person_Age             0\n",
       "Delivery_person_Ratings         0\n",
       "Restaurant_latitude             0\n",
       "Restaurant_longitude            0\n",
       "Delivery_location_latitude      0\n",
       "Delivery_location_longitude     0\n",
       "Type_of_order                   0\n",
       "Type_of_vehicle                 0\n",
       "temperature                     0\n",
       "humidity                        0\n",
       "precipitation                   0\n",
       "weather_description             0\n",
       "Traffic_Level                  96\n",
       "Distance (km)                   0\n",
       "TARGET                          0\n",
       "dtype: int64"
      ]
     },
     "execution_count": 37,
     "metadata": {},
     "output_type": "execute_result"
    }
   ],
   "source": [
    "clean_df.isna().sum()"
   ]
  }
 ],
 "metadata": {
  "kernelspec": {
   "display_name": "venv",
   "language": "python",
   "name": "python3"
  },
  "language_info": {
   "codemirror_mode": {
    "name": "ipython",
    "version": 3
   },
   "file_extension": ".py",
   "mimetype": "text/x-python",
   "name": "python",
   "nbconvert_exporter": "python",
   "pygments_lexer": "ipython3",
   "version": "3.10.0"
  }
 },
 "nbformat": 4,
 "nbformat_minor": 2
}
